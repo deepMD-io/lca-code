{
  "nbformat": 4,
  "nbformat_minor": 0,
  "metadata": {
    "colab": {
      "name": "dumbell_plots.ipynb",
      "provenance": [],
      "collapsed_sections": [],
      "toc_visible": true
    },
    "kernelspec": {
      "display_name": "R",
      "language": "R",
      "name": "ir"
    },
    "language_info": {
      "codemirror_mode": "r",
      "file_extension": ".r",
      "mimetype": "text/x-r-source",
      "name": "R",
      "pygments_lexer": "r",
      "version": "3.6.1"
    },
    "accelerator": "GPU"
  },
  "cells": [
    {
      "cell_type": "markdown",
      "metadata": {
        "colab_type": "text",
        "id": "DrGFlVmV9Hxs"
      },
      "source": [
        "# Paper Figures"
      ]
    },
    {
      "cell_type": "code",
      "metadata": {
        "id": "0Pt23AQZMY7T",
        "colab_type": "code",
        "outputId": "a30962a8-af00-4048-e8ac-aa64065dfd81",
        "colab": {
          "base_uri": "https://localhost:8080/",
          "height": 68
        }
      },
      "source": [
        "install.packages(\"caret\")"
      ],
      "execution_count": 20,
      "outputs": [
        {
          "output_type": "stream",
          "text": [
            "Installing package into ‘/usr/local/lib/R/site-library’\n",
            "(as ‘lib’ is unspecified)\n",
            "\n"
          ],
          "name": "stderr"
        }
      ]
    },
    {
      "cell_type": "code",
      "metadata": {
        "colab_type": "code",
        "id": "wjHueGAZt7Jd",
        "colab": {}
      },
      "source": [
        "#install.packages(\"caret\")\n",
        "library(tidyr)\n",
        "library(dplyr)\n",
        "library(ggplot2)\n",
        "library(caret)\n",
        "\n",
        "# load the data\n",
        "results <- read.csv(\"experiment_results.csv\", header = TRUE, sep = \",\")"
      ],
      "execution_count": 0,
      "outputs": []
    },
    {
      "cell_type": "markdown",
      "metadata": {
        "colab_type": "text",
        "id": "uO9vAK6R9VGT"
      },
      "source": [
        "## Sanity the check the data"
      ]
    },
    {
      "cell_type": "code",
      "metadata": {
        "colab_type": "code",
        "id": "-ssapxeXt7Ki",
        "outputId": "022e175b-bc0a-4c7b-a651-6e1df3fd9c55",
        "colab": {
          "base_uri": "https://localhost:8080/",
          "height": 34
        }
      },
      "source": [
        "nrow(results)"
      ],
      "execution_count": 71,
      "outputs": [
        {
          "output_type": "display_data",
          "data": {
            "text/plain": [
              "[1] 937"
            ],
            "text/latex": "937",
            "text/markdown": "937",
            "text/html": [
              "937"
            ]
          },
          "metadata": {
            "tags": []
          }
        }
      ]
    },
    {
      "cell_type": "code",
      "metadata": {
        "colab_type": "code",
        "id": "cnK9PO99t7Kq",
        "outputId": "bbf48da2-ce63-41a0-bad8-785e2755a59d",
        "colab": {
          "base_uri": "https://localhost:8080/",
          "height": 519
        }
      },
      "source": [
        "results  %>% group_by(name, slide)  %>% summarise(n=n())  %>%  filter(n>1)\n",
        "results = results  %>% mutate(gt = 1-gt)  %>% \n",
        "mutate(unasst_pred = 1-unasst_pred)  %>% \n",
        "mutate(asst_pred = 1-asst_pred)"
      ],
      "execution_count": 72,
      "outputs": [
        {
          "output_type": "display_data",
          "data": {
            "text/plain": [
              "   name                 slide    n\n",
              "1  GI Specialist 1      slide0.1 2\n",
              "2  GI Specialist 1      slide0.3 2\n",
              "3  GI Specialist 2      slide0.1 2\n",
              "4  None-GI Specialist 1 slide0.1 2\n",
              "5  None-GI Specialist 1 slide0.2 2\n",
              "6  None-GI Specialist 1 slide0.3 2\n",
              "7  None-GI Specialist 1 slide0.4 2\n",
              "8  None-GI Specialist 2 slide0.1 2\n",
              "9  None-GI Specialist 2 slide0.2 2\n",
              "10 None-GI Specialist 2 slide0.3 2\n",
              "11 None-GI Specialist 3 slide0.1 2\n",
              "12 Pathologist NOC 1    slide0.1 2\n",
              "13 Pathologist NOC 1    slide0.2 2\n",
              "14 Pathologist NOC 1    slide0.3 2\n",
              "15 Trainee 1            slide0.4 2\n",
              "16 Trainee 2            slide0.1 2\n",
              "17 Trainee 2            slide0.2 2\n",
              "18 Trainee 2            slide0.3 2\n",
              "19 Trainee 2            slide0.4 2\n",
              "20 Trainee 3            slide0.1 2\n",
              "21 Trainee 3            slide0.3 2"
            ],
            "text/latex": "A grouped\\_df: 21 × 3\n\\begin{tabular}{lll}\n name & slide & n\\\\\n <fct> & <fct> & <int>\\\\\n\\hline\n\t GI Specialist 1      & slide0.1 & 2\\\\\n\t GI Specialist 1      & slide0.3 & 2\\\\\n\t GI Specialist 2      & slide0.1 & 2\\\\\n\t None-GI Specialist 1 & slide0.1 & 2\\\\\n\t None-GI Specialist 1 & slide0.2 & 2\\\\\n\t None-GI Specialist 1 & slide0.3 & 2\\\\\n\t None-GI Specialist 1 & slide0.4 & 2\\\\\n\t None-GI Specialist 2 & slide0.1 & 2\\\\\n\t None-GI Specialist 2 & slide0.2 & 2\\\\\n\t None-GI Specialist 2 & slide0.3 & 2\\\\\n\t None-GI Specialist 3 & slide0.1 & 2\\\\\n\t Pathologist NOC 1    & slide0.1 & 2\\\\\n\t Pathologist NOC 1    & slide0.2 & 2\\\\\n\t Pathologist NOC 1    & slide0.3 & 2\\\\\n\t Trainee 1            & slide0.4 & 2\\\\\n\t Trainee 2            & slide0.1 & 2\\\\\n\t Trainee 2            & slide0.2 & 2\\\\\n\t Trainee 2            & slide0.3 & 2\\\\\n\t Trainee 2            & slide0.4 & 2\\\\\n\t Trainee 3            & slide0.1 & 2\\\\\n\t Trainee 3            & slide0.3 & 2\\\\\n\\end{tabular}\n",
            "text/markdown": "\nA grouped_df: 21 × 3\n\n| name &lt;fct&gt; | slide &lt;fct&gt; | n &lt;int&gt; |\n|---|---|---|\n| GI Specialist 1      | slide0.1 | 2 |\n| GI Specialist 1      | slide0.3 | 2 |\n| GI Specialist 2      | slide0.1 | 2 |\n| None-GI Specialist 1 | slide0.1 | 2 |\n| None-GI Specialist 1 | slide0.2 | 2 |\n| None-GI Specialist 1 | slide0.3 | 2 |\n| None-GI Specialist 1 | slide0.4 | 2 |\n| None-GI Specialist 2 | slide0.1 | 2 |\n| None-GI Specialist 2 | slide0.2 | 2 |\n| None-GI Specialist 2 | slide0.3 | 2 |\n| None-GI Specialist 3 | slide0.1 | 2 |\n| Pathologist NOC 1    | slide0.1 | 2 |\n| Pathologist NOC 1    | slide0.2 | 2 |\n| Pathologist NOC 1    | slide0.3 | 2 |\n| Trainee 1            | slide0.4 | 2 |\n| Trainee 2            | slide0.1 | 2 |\n| Trainee 2            | slide0.2 | 2 |\n| Trainee 2            | slide0.3 | 2 |\n| Trainee 2            | slide0.4 | 2 |\n| Trainee 3            | slide0.1 | 2 |\n| Trainee 3            | slide0.3 | 2 |\n\n",
            "text/html": [
              "<table>\n",
              "<caption>A grouped_df: 21 × 3</caption>\n",
              "<thead>\n",
              "\t<tr><th scope=col>name</th><th scope=col>slide</th><th scope=col>n</th></tr>\n",
              "\t<tr><th scope=col>&lt;fct&gt;</th><th scope=col>&lt;fct&gt;</th><th scope=col>&lt;int&gt;</th></tr>\n",
              "</thead>\n",
              "<tbody>\n",
              "\t<tr><td>GI Specialist 1     </td><td>slide0.1</td><td>2</td></tr>\n",
              "\t<tr><td>GI Specialist 1     </td><td>slide0.3</td><td>2</td></tr>\n",
              "\t<tr><td>GI Specialist 2     </td><td>slide0.1</td><td>2</td></tr>\n",
              "\t<tr><td>None-GI Specialist 1</td><td>slide0.1</td><td>2</td></tr>\n",
              "\t<tr><td>None-GI Specialist 1</td><td>slide0.2</td><td>2</td></tr>\n",
              "\t<tr><td>None-GI Specialist 1</td><td>slide0.3</td><td>2</td></tr>\n",
              "\t<tr><td>None-GI Specialist 1</td><td>slide0.4</td><td>2</td></tr>\n",
              "\t<tr><td>None-GI Specialist 2</td><td>slide0.1</td><td>2</td></tr>\n",
              "\t<tr><td>None-GI Specialist 2</td><td>slide0.2</td><td>2</td></tr>\n",
              "\t<tr><td>None-GI Specialist 2</td><td>slide0.3</td><td>2</td></tr>\n",
              "\t<tr><td>None-GI Specialist 3</td><td>slide0.1</td><td>2</td></tr>\n",
              "\t<tr><td>Pathologist NOC 1   </td><td>slide0.1</td><td>2</td></tr>\n",
              "\t<tr><td>Pathologist NOC 1   </td><td>slide0.2</td><td>2</td></tr>\n",
              "\t<tr><td>Pathologist NOC 1   </td><td>slide0.3</td><td>2</td></tr>\n",
              "\t<tr><td>Trainee 1           </td><td>slide0.4</td><td>2</td></tr>\n",
              "\t<tr><td>Trainee 2           </td><td>slide0.1</td><td>2</td></tr>\n",
              "\t<tr><td>Trainee 2           </td><td>slide0.2</td><td>2</td></tr>\n",
              "\t<tr><td>Trainee 2           </td><td>slide0.3</td><td>2</td></tr>\n",
              "\t<tr><td>Trainee 2           </td><td>slide0.4</td><td>2</td></tr>\n",
              "\t<tr><td>Trainee 3           </td><td>slide0.1</td><td>2</td></tr>\n",
              "\t<tr><td>Trainee 3           </td><td>slide0.3</td><td>2</td></tr>\n",
              "</tbody>\n",
              "</table>\n"
            ]
          },
          "metadata": {
            "tags": []
          }
        }
      ]
    },
    {
      "cell_type": "code",
      "metadata": {
        "colab_type": "code",
        "id": "DE_9cI31t7Kt",
        "colab": {}
      },
      "source": [
        "results_cleaned  = results %>% drop_na()  %>%  filter(!grepl(\"slide0\", slide)) "
      ],
      "execution_count": 0,
      "outputs": []
    },
    {
      "cell_type": "code",
      "metadata": {
        "colab_type": "code",
        "id": "5897Y6r2t7Kw",
        "outputId": "30d6ef04-e8c2-4fdf-f779-312994a0e942",
        "colab": {
          "base_uri": "https://localhost:8080/",
          "height": 78
        }
      },
      "source": [
        "results_cleaned  %>% group_by(participant, name)  %>% summarise(n=n())  %>%  filter(n>40)\n",
        "\n",
        "results= results_cleaned"
      ],
      "execution_count": 74,
      "outputs": [
        {
          "output_type": "display_data",
          "data": {
            "text/plain": [
              "     participant name n"
            ],
            "text/latex": "A grouped\\_df: 0 × 3\n\\begin{tabular}{lll}\n participant & name & n\\\\\n <fct> & <fct> & <int>\\\\\n\\hline\n\\end{tabular}\n",
            "text/markdown": "\nA grouped_df: 0 × 3\n\n| participant &lt;fct&gt; | name &lt;fct&gt; | n &lt;int&gt; |\n|---|---|---|\n\n",
            "text/html": [
              "<table>\n",
              "<caption>A grouped_df: 0 × 3</caption>\n",
              "<thead>\n",
              "\t<tr><th scope=col>participant</th><th scope=col>name</th><th scope=col>n</th></tr>\n",
              "\t<tr><th scope=col>&lt;fct&gt;</th><th scope=col>&lt;fct&gt;</th><th scope=col>&lt;int&gt;</th></tr>\n",
              "</thead>\n",
              "<tbody>\n",
              "</tbody>\n",
              "</table>\n"
            ]
          },
          "metadata": {
            "tags": []
          }
        }
      ]
    },
    {
      "cell_type": "code",
      "metadata": {
        "colab_type": "code",
        "id": "Od3utAPFt7LH",
        "colab": {}
      },
      "source": [
        "rearranged_results = rbind(\n",
        "select(results_cleaned, slide, unasst_pred, gt, name, type, CHOL) %>%\n",
        "mutate('mode' = 0)  %>% \n",
        "rename( pred= unasst_pred ),\n",
        "select(results_cleaned, slide, asst_pred, gt, name, type, CHOL) %>%\n",
        "mutate('mode' = 1)  %>% \n",
        "rename(pred = asst_pred)\n",
        ")"
      ],
      "execution_count": 0,
      "outputs": []
    },
    {
      "cell_type": "code",
      "metadata": {
        "colab_type": "code",
        "id": "sMYMlcAht7LK",
        "colab": {}
      },
      "source": [
        "rearranged_results = droplevels(rearranged_results)"
      ],
      "execution_count": 0,
      "outputs": []
    },
    {
      "cell_type": "code",
      "metadata": {
        "colab_type": "code",
        "id": "AkRKjv3-t7LM",
        "outputId": "64e0ba1b-0e52-4e7b-ebd5-91057fc2e577",
        "colab": {
          "base_uri": "https://localhost:8080/",
          "height": 204
        }
      },
      "source": [
        "head(rearranged_results)"
      ],
      "execution_count": 77,
      "outputs": [
        {
          "output_type": "display_data",
          "data": {
            "text/plain": [
              "  slide     pred gt name                 type              CHOL       mode\n",
              "1 slide1.1  0    1  None-GI Specialist 2 Non-GI Specialist 0.78417829 0   \n",
              "2 slide1.10 1    1  None-GI Specialist 2 Non-GI Specialist 0.94298992 0   \n",
              "3 slide1.2  0    0  None-GI Specialist 2 Non-GI Specialist 0.99791996 0   \n",
              "4 slide1.3  0    1  None-GI Specialist 2 Non-GI Specialist 0.04323179 0   \n",
              "5 slide1.4  0    0  None-GI Specialist 2 Non-GI Specialist 0.05789030 0   \n",
              "6 slide1.5  0    0  None-GI Specialist 2 Non-GI Specialist 0.06280911 0   "
            ],
            "text/latex": "A data.frame: 6 × 7\n\\begin{tabular}{r|lllllll}\n  & slide & pred & gt & name & type & CHOL & mode\\\\\n  & <fct> & <dbl> & <dbl> & <fct> & <fct> & <dbl> & <dbl>\\\\\n\\hline\n\t1 & slide1.1  & 0 & 1 & None-GI Specialist 2 & Non-GI Specialist & 0.78417829 & 0\\\\\n\t2 & slide1.10 & 1 & 1 & None-GI Specialist 2 & Non-GI Specialist & 0.94298992 & 0\\\\\n\t3 & slide1.2  & 0 & 0 & None-GI Specialist 2 & Non-GI Specialist & 0.99791996 & 0\\\\\n\t4 & slide1.3  & 0 & 1 & None-GI Specialist 2 & Non-GI Specialist & 0.04323179 & 0\\\\\n\t5 & slide1.4  & 0 & 0 & None-GI Specialist 2 & Non-GI Specialist & 0.05789030 & 0\\\\\n\t6 & slide1.5  & 0 & 0 & None-GI Specialist 2 & Non-GI Specialist & 0.06280911 & 0\\\\\n\\end{tabular}\n",
            "text/markdown": "\nA data.frame: 6 × 7\n\n| <!--/--> | slide &lt;fct&gt; | pred &lt;dbl&gt; | gt &lt;dbl&gt; | name &lt;fct&gt; | type &lt;fct&gt; | CHOL &lt;dbl&gt; | mode &lt;dbl&gt; |\n|---|---|---|---|---|---|---|---|\n| 1 | slide1.1  | 0 | 1 | None-GI Specialist 2 | Non-GI Specialist | 0.78417829 | 0 |\n| 2 | slide1.10 | 1 | 1 | None-GI Specialist 2 | Non-GI Specialist | 0.94298992 | 0 |\n| 3 | slide1.2  | 0 | 0 | None-GI Specialist 2 | Non-GI Specialist | 0.99791996 | 0 |\n| 4 | slide1.3  | 0 | 1 | None-GI Specialist 2 | Non-GI Specialist | 0.04323179 | 0 |\n| 5 | slide1.4  | 0 | 0 | None-GI Specialist 2 | Non-GI Specialist | 0.05789030 | 0 |\n| 6 | slide1.5  | 0 | 0 | None-GI Specialist 2 | Non-GI Specialist | 0.06280911 | 0 |\n\n",
            "text/html": [
              "<table>\n",
              "<caption>A data.frame: 6 × 7</caption>\n",
              "<thead>\n",
              "\t<tr><th></th><th scope=col>slide</th><th scope=col>pred</th><th scope=col>gt</th><th scope=col>name</th><th scope=col>type</th><th scope=col>CHOL</th><th scope=col>mode</th></tr>\n",
              "\t<tr><th></th><th scope=col>&lt;fct&gt;</th><th scope=col>&lt;dbl&gt;</th><th scope=col>&lt;dbl&gt;</th><th scope=col>&lt;fct&gt;</th><th scope=col>&lt;fct&gt;</th><th scope=col>&lt;dbl&gt;</th><th scope=col>&lt;dbl&gt;</th></tr>\n",
              "</thead>\n",
              "<tbody>\n",
              "\t<tr><th scope=row>1</th><td>slide1.1 </td><td>0</td><td>1</td><td>None-GI Specialist 2</td><td>Non-GI Specialist</td><td>0.78417829</td><td>0</td></tr>\n",
              "\t<tr><th scope=row>2</th><td>slide1.10</td><td>1</td><td>1</td><td>None-GI Specialist 2</td><td>Non-GI Specialist</td><td>0.94298992</td><td>0</td></tr>\n",
              "\t<tr><th scope=row>3</th><td>slide1.2 </td><td>0</td><td>0</td><td>None-GI Specialist 2</td><td>Non-GI Specialist</td><td>0.99791996</td><td>0</td></tr>\n",
              "\t<tr><th scope=row>4</th><td>slide1.3 </td><td>0</td><td>1</td><td>None-GI Specialist 2</td><td>Non-GI Specialist</td><td>0.04323179</td><td>0</td></tr>\n",
              "\t<tr><th scope=row>5</th><td>slide1.4 </td><td>0</td><td>0</td><td>None-GI Specialist 2</td><td>Non-GI Specialist</td><td>0.05789030</td><td>0</td></tr>\n",
              "\t<tr><th scope=row>6</th><td>slide1.5 </td><td>0</td><td>0</td><td>None-GI Specialist 2</td><td>Non-GI Specialist</td><td>0.06280911</td><td>0</td></tr>\n",
              "</tbody>\n",
              "</table>\n"
            ]
          },
          "metadata": {
            "tags": []
          }
        }
      ]
    },
    {
      "cell_type": "code",
      "metadata": {
        "colab_type": "code",
        "id": "ImTSkbpxt7LP",
        "colab": {}
      },
      "source": [
        "# Save data for the mixed models\n",
        "write.csv(rearranged_results, \"mixed_model_data.csv\")"
      ],
      "execution_count": 0,
      "outputs": []
    },
    {
      "cell_type": "markdown",
      "metadata": {
        "colab_type": "text",
        "id": "bzpdt-aW-2R6"
      },
      "source": [
        "## Accuracy"
      ]
    },
    {
      "cell_type": "code",
      "metadata": {
        "colab_type": "code",
        "id": "jZEjsWAQt7LS",
        "colab": {}
      },
      "source": [
        "data = rearranged_results   %>% \n",
        "mutate(model_pred = if_else(CHOL > .5, 1, 0))  %>% \n",
        "group_by(name, mode)  %>% \n",
        "summarise(incorrect = sum(abs(pred - gt)), total=n(), type=first(type), model_incorrect =sum(abs(model_pred - gt)))  %>% \n",
        "mutate(score = (total - incorrect)/total, model_score =  (total - model_incorrect)/total)  %>% \n",
        "spread(mode, score, sep='_', fill=-1 ) %>% \n",
        "group_by(name)  %>% \n",
        "summarise('assisted' = max(mode_1), 'unassisted'= max(mode_0), 'type'=first(type), 'model'=first(model_score))"
      ],
      "execution_count": 0,
      "outputs": []
    },
    {
      "cell_type": "code",
      "metadata": {
        "colab_type": "code",
        "id": "42iIgYi6t7LX",
        "outputId": "92cb9d7d-67c6-492c-f993-a5f67f3ff8a3",
        "colab": {
          "base_uri": "https://localhost:8080/",
          "height": 309
        }
      },
      "source": [
        "data"
      ],
      "execution_count": 80,
      "outputs": [
        {
          "output_type": "display_data",
          "data": {
            "text/plain": [
              "   name                 assisted unassisted type              model \n",
              "1  GI Specialist 1      0.9375   0.9250     GI Specialist     0.8750\n",
              "2  GI Specialist 2      0.9750   0.9375     GI Specialist     0.9125\n",
              "3  GI Specialist 3      0.9750   0.9750     GI Specialist     0.9125\n",
              "4  None-GI Specialist 1 0.8500   0.8375     Non-GI Specialist 0.8125\n",
              "5  None-GI Specialist 2 0.8500   0.8125     Non-GI Specialist 0.8000\n",
              "6  None-GI Specialist 3 0.9125   0.8750     Non-GI Specialist 0.8125\n",
              "7  Pathologist NOC 1    0.9500   0.9875     Pathologist NOC   0.8000\n",
              "8  Pathologist NOC 2    0.9125   0.9500     Pathologist NOC   0.8625\n",
              "9  Trainee 1            0.7875   0.7125     Trainee           0.7750\n",
              "10 Trainee 2            0.9750   0.9375     Trainee           0.9000\n",
              "11 Trainee 3            0.9250   0.9250     Trainee           0.8000"
            ],
            "text/latex": "A tibble: 11 × 5\n\\begin{tabular}{lllll}\n name & assisted & unassisted & type & model\\\\\n <fct> & <dbl> & <dbl> & <fct> & <dbl>\\\\\n\\hline\n\t GI Specialist 1      & 0.9375 & 0.9250 & GI Specialist     & 0.8750\\\\\n\t GI Specialist 2      & 0.9750 & 0.9375 & GI Specialist     & 0.9125\\\\\n\t GI Specialist 3      & 0.9750 & 0.9750 & GI Specialist     & 0.9125\\\\\n\t None-GI Specialist 1 & 0.8500 & 0.8375 & Non-GI Specialist & 0.8125\\\\\n\t None-GI Specialist 2 & 0.8500 & 0.8125 & Non-GI Specialist & 0.8000\\\\\n\t None-GI Specialist 3 & 0.9125 & 0.8750 & Non-GI Specialist & 0.8125\\\\\n\t Pathologist NOC 1    & 0.9500 & 0.9875 & Pathologist NOC   & 0.8000\\\\\n\t Pathologist NOC 2    & 0.9125 & 0.9500 & Pathologist NOC   & 0.8625\\\\\n\t Trainee 1            & 0.7875 & 0.7125 & Trainee           & 0.7750\\\\\n\t Trainee 2            & 0.9750 & 0.9375 & Trainee           & 0.9000\\\\\n\t Trainee 3            & 0.9250 & 0.9250 & Trainee           & 0.8000\\\\\n\\end{tabular}\n",
            "text/markdown": "\nA tibble: 11 × 5\n\n| name &lt;fct&gt; | assisted &lt;dbl&gt; | unassisted &lt;dbl&gt; | type &lt;fct&gt; | model &lt;dbl&gt; |\n|---|---|---|---|---|\n| GI Specialist 1      | 0.9375 | 0.9250 | GI Specialist     | 0.8750 |\n| GI Specialist 2      | 0.9750 | 0.9375 | GI Specialist     | 0.9125 |\n| GI Specialist 3      | 0.9750 | 0.9750 | GI Specialist     | 0.9125 |\n| None-GI Specialist 1 | 0.8500 | 0.8375 | Non-GI Specialist | 0.8125 |\n| None-GI Specialist 2 | 0.8500 | 0.8125 | Non-GI Specialist | 0.8000 |\n| None-GI Specialist 3 | 0.9125 | 0.8750 | Non-GI Specialist | 0.8125 |\n| Pathologist NOC 1    | 0.9500 | 0.9875 | Pathologist NOC   | 0.8000 |\n| Pathologist NOC 2    | 0.9125 | 0.9500 | Pathologist NOC   | 0.8625 |\n| Trainee 1            | 0.7875 | 0.7125 | Trainee           | 0.7750 |\n| Trainee 2            | 0.9750 | 0.9375 | Trainee           | 0.9000 |\n| Trainee 3            | 0.9250 | 0.9250 | Trainee           | 0.8000 |\n\n",
            "text/html": [
              "<table>\n",
              "<caption>A tibble: 11 × 5</caption>\n",
              "<thead>\n",
              "\t<tr><th scope=col>name</th><th scope=col>assisted</th><th scope=col>unassisted</th><th scope=col>type</th><th scope=col>model</th></tr>\n",
              "\t<tr><th scope=col>&lt;fct&gt;</th><th scope=col>&lt;dbl&gt;</th><th scope=col>&lt;dbl&gt;</th><th scope=col>&lt;fct&gt;</th><th scope=col>&lt;dbl&gt;</th></tr>\n",
              "</thead>\n",
              "<tbody>\n",
              "\t<tr><td>GI Specialist 1     </td><td>0.9375</td><td>0.9250</td><td>GI Specialist    </td><td>0.8750</td></tr>\n",
              "\t<tr><td>GI Specialist 2     </td><td>0.9750</td><td>0.9375</td><td>GI Specialist    </td><td>0.9125</td></tr>\n",
              "\t<tr><td>GI Specialist 3     </td><td>0.9750</td><td>0.9750</td><td>GI Specialist    </td><td>0.9125</td></tr>\n",
              "\t<tr><td>None-GI Specialist 1</td><td>0.8500</td><td>0.8375</td><td>Non-GI Specialist</td><td>0.8125</td></tr>\n",
              "\t<tr><td>None-GI Specialist 2</td><td>0.8500</td><td>0.8125</td><td>Non-GI Specialist</td><td>0.8000</td></tr>\n",
              "\t<tr><td>None-GI Specialist 3</td><td>0.9125</td><td>0.8750</td><td>Non-GI Specialist</td><td>0.8125</td></tr>\n",
              "\t<tr><td>Pathologist NOC 1   </td><td>0.9500</td><td>0.9875</td><td>Pathologist NOC  </td><td>0.8000</td></tr>\n",
              "\t<tr><td>Pathologist NOC 2   </td><td>0.9125</td><td>0.9500</td><td>Pathologist NOC  </td><td>0.8625</td></tr>\n",
              "\t<tr><td>Trainee 1           </td><td>0.7875</td><td>0.7125</td><td>Trainee          </td><td>0.7750</td></tr>\n",
              "\t<tr><td>Trainee 2           </td><td>0.9750</td><td>0.9375</td><td>Trainee          </td><td>0.9000</td></tr>\n",
              "\t<tr><td>Trainee 3           </td><td>0.9250</td><td>0.9250</td><td>Trainee          </td><td>0.8000</td></tr>\n",
              "</tbody>\n",
              "</table>\n"
            ]
          },
          "metadata": {
            "tags": []
          }
        }
      ]
    },
    {
      "cell_type": "code",
      "metadata": {
        "colab_type": "code",
        "id": "LdTidWOCt7La",
        "colab": {}
      },
      "source": [
        "data = data  %>% mutate(type_order = if_else(type == 'GI Specialist', 1, if_else(type == 'Non-GI Specialist', 2, if_else(type == 'Pathologist NOC', 0, 3))))\n",
        "data = arrange(data, desc(type_order))  %>% \n",
        "mutate(row_idx = row_number())"
      ],
      "execution_count": 0,
      "outputs": []
    },
    {
      "cell_type": "code",
      "metadata": {
        "colab_type": "code",
        "id": "pvtm6O37t7Le",
        "outputId": "a704a904-ebe8-44ac-f962-605933cfbe22",
        "colab": {
          "base_uri": "https://localhost:8080/",
          "height": 309
        }
      },
      "source": [
        "data"
      ],
      "execution_count": 82,
      "outputs": [
        {
          "output_type": "display_data",
          "data": {
            "text/plain": [
              "   name                 assisted unassisted type              model  type_order\n",
              "1  Trainee 1            0.7875   0.7125     Trainee           0.7750 3         \n",
              "2  Trainee 2            0.9750   0.9375     Trainee           0.9000 3         \n",
              "3  Trainee 3            0.9250   0.9250     Trainee           0.8000 3         \n",
              "4  None-GI Specialist 1 0.8500   0.8375     Non-GI Specialist 0.8125 2         \n",
              "5  None-GI Specialist 2 0.8500   0.8125     Non-GI Specialist 0.8000 2         \n",
              "6  None-GI Specialist 3 0.9125   0.8750     Non-GI Specialist 0.8125 2         \n",
              "7  GI Specialist 1      0.9375   0.9250     GI Specialist     0.8750 1         \n",
              "8  GI Specialist 2      0.9750   0.9375     GI Specialist     0.9125 1         \n",
              "9  GI Specialist 3      0.9750   0.9750     GI Specialist     0.9125 1         \n",
              "10 Pathologist NOC 1    0.9500   0.9875     Pathologist NOC   0.8000 0         \n",
              "11 Pathologist NOC 2    0.9125   0.9500     Pathologist NOC   0.8625 0         \n",
              "   row_idx\n",
              "1   1     \n",
              "2   2     \n",
              "3   3     \n",
              "4   4     \n",
              "5   5     \n",
              "6   6     \n",
              "7   7     \n",
              "8   8     \n",
              "9   9     \n",
              "10 10     \n",
              "11 11     "
            ],
            "text/latex": "A tibble: 11 × 7\n\\begin{tabular}{lllllll}\n name & assisted & unassisted & type & model & type\\_order & row\\_idx\\\\\n <fct> & <dbl> & <dbl> & <fct> & <dbl> & <dbl> & <int>\\\\\n\\hline\n\t Trainee 1            & 0.7875 & 0.7125 & Trainee           & 0.7750 & 3 &  1\\\\\n\t Trainee 2            & 0.9750 & 0.9375 & Trainee           & 0.9000 & 3 &  2\\\\\n\t Trainee 3            & 0.9250 & 0.9250 & Trainee           & 0.8000 & 3 &  3\\\\\n\t None-GI Specialist 1 & 0.8500 & 0.8375 & Non-GI Specialist & 0.8125 & 2 &  4\\\\\n\t None-GI Specialist 2 & 0.8500 & 0.8125 & Non-GI Specialist & 0.8000 & 2 &  5\\\\\n\t None-GI Specialist 3 & 0.9125 & 0.8750 & Non-GI Specialist & 0.8125 & 2 &  6\\\\\n\t GI Specialist 1      & 0.9375 & 0.9250 & GI Specialist     & 0.8750 & 1 &  7\\\\\n\t GI Specialist 2      & 0.9750 & 0.9375 & GI Specialist     & 0.9125 & 1 &  8\\\\\n\t GI Specialist 3      & 0.9750 & 0.9750 & GI Specialist     & 0.9125 & 1 &  9\\\\\n\t Pathologist NOC 1    & 0.9500 & 0.9875 & Pathologist NOC   & 0.8000 & 0 & 10\\\\\n\t Pathologist NOC 2    & 0.9125 & 0.9500 & Pathologist NOC   & 0.8625 & 0 & 11\\\\\n\\end{tabular}\n",
            "text/markdown": "\nA tibble: 11 × 7\n\n| name &lt;fct&gt; | assisted &lt;dbl&gt; | unassisted &lt;dbl&gt; | type &lt;fct&gt; | model &lt;dbl&gt; | type_order &lt;dbl&gt; | row_idx &lt;int&gt; |\n|---|---|---|---|---|---|---|\n| Trainee 1            | 0.7875 | 0.7125 | Trainee           | 0.7750 | 3 |  1 |\n| Trainee 2            | 0.9750 | 0.9375 | Trainee           | 0.9000 | 3 |  2 |\n| Trainee 3            | 0.9250 | 0.9250 | Trainee           | 0.8000 | 3 |  3 |\n| None-GI Specialist 1 | 0.8500 | 0.8375 | Non-GI Specialist | 0.8125 | 2 |  4 |\n| None-GI Specialist 2 | 0.8500 | 0.8125 | Non-GI Specialist | 0.8000 | 2 |  5 |\n| None-GI Specialist 3 | 0.9125 | 0.8750 | Non-GI Specialist | 0.8125 | 2 |  6 |\n| GI Specialist 1      | 0.9375 | 0.9250 | GI Specialist     | 0.8750 | 1 |  7 |\n| GI Specialist 2      | 0.9750 | 0.9375 | GI Specialist     | 0.9125 | 1 |  8 |\n| GI Specialist 3      | 0.9750 | 0.9750 | GI Specialist     | 0.9125 | 1 |  9 |\n| Pathologist NOC 1    | 0.9500 | 0.9875 | Pathologist NOC   | 0.8000 | 0 | 10 |\n| Pathologist NOC 2    | 0.9125 | 0.9500 | Pathologist NOC   | 0.8625 | 0 | 11 |\n\n",
            "text/html": [
              "<table>\n",
              "<caption>A tibble: 11 × 7</caption>\n",
              "<thead>\n",
              "\t<tr><th scope=col>name</th><th scope=col>assisted</th><th scope=col>unassisted</th><th scope=col>type</th><th scope=col>model</th><th scope=col>type_order</th><th scope=col>row_idx</th></tr>\n",
              "\t<tr><th scope=col>&lt;fct&gt;</th><th scope=col>&lt;dbl&gt;</th><th scope=col>&lt;dbl&gt;</th><th scope=col>&lt;fct&gt;</th><th scope=col>&lt;dbl&gt;</th><th scope=col>&lt;dbl&gt;</th><th scope=col>&lt;int&gt;</th></tr>\n",
              "</thead>\n",
              "<tbody>\n",
              "\t<tr><td>Trainee 1           </td><td>0.7875</td><td>0.7125</td><td>Trainee          </td><td>0.7750</td><td>3</td><td> 1</td></tr>\n",
              "\t<tr><td>Trainee 2           </td><td>0.9750</td><td>0.9375</td><td>Trainee          </td><td>0.9000</td><td>3</td><td> 2</td></tr>\n",
              "\t<tr><td>Trainee 3           </td><td>0.9250</td><td>0.9250</td><td>Trainee          </td><td>0.8000</td><td>3</td><td> 3</td></tr>\n",
              "\t<tr><td>None-GI Specialist 1</td><td>0.8500</td><td>0.8375</td><td>Non-GI Specialist</td><td>0.8125</td><td>2</td><td> 4</td></tr>\n",
              "\t<tr><td>None-GI Specialist 2</td><td>0.8500</td><td>0.8125</td><td>Non-GI Specialist</td><td>0.8000</td><td>2</td><td> 5</td></tr>\n",
              "\t<tr><td>None-GI Specialist 3</td><td>0.9125</td><td>0.8750</td><td>Non-GI Specialist</td><td>0.8125</td><td>2</td><td> 6</td></tr>\n",
              "\t<tr><td>GI Specialist 1     </td><td>0.9375</td><td>0.9250</td><td>GI Specialist    </td><td>0.8750</td><td>1</td><td> 7</td></tr>\n",
              "\t<tr><td>GI Specialist 2     </td><td>0.9750</td><td>0.9375</td><td>GI Specialist    </td><td>0.9125</td><td>1</td><td> 8</td></tr>\n",
              "\t<tr><td>GI Specialist 3     </td><td>0.9750</td><td>0.9750</td><td>GI Specialist    </td><td>0.9125</td><td>1</td><td> 9</td></tr>\n",
              "\t<tr><td>Pathologist NOC 1   </td><td>0.9500</td><td>0.9875</td><td>Pathologist NOC  </td><td>0.8000</td><td>0</td><td>10</td></tr>\n",
              "\t<tr><td>Pathologist NOC 2   </td><td>0.9125</td><td>0.9500</td><td>Pathologist NOC  </td><td>0.8625</td><td>0</td><td>11</td></tr>\n",
              "</tbody>\n",
              "</table>\n"
            ]
          },
          "metadata": {
            "tags": []
          }
        }
      ]
    },
    {
      "cell_type": "code",
      "metadata": {
        "colab_type": "code",
        "id": "06_cu70dt7Lg",
        "outputId": "4194ad0c-9c9d-431c-b0a4-d81b11d78258",
        "colab": {
          "base_uri": "https://localhost:8080/",
          "height": 437
        }
      },
      "source": [
        "write.csv(data, \"assisted_unassisted_accuracy.csv\")\n",
        "shape_cols <- c(\"Model\"=8, \"Unassisted\"=16, \"Assisted\"=18)\n",
        "color_cols <- c(\"Model\"=\"#444444\", \"Unassisted\"=\"gray\", \"Assisted\"=\"purple\", \"white\" = \"white\", \"black\"= \"gray\")\n",
        "data = data  %>% mutate(type_color = if_else(type_order %% 2 != 0, \"white\", \"black\"))\n",
        "\n",
        "# With a bit more style\n",
        "graph = ggplot(data) +\n",
        "  geom_segment(aes(x=reorder(name, -row_idx), xend=reorder(name, -row_idx), y=unassisted, yend=assisted), color='gray') +\n",
        "  geom_rect(mapping=aes(xmin= 12 - row_idx - .5, xmax=(12 - row_idx) +  .5, ymin=.6, ymax=1., fill=type_color), alpha=.3, ) +\n",
        "  geom_point(aes(x=reorder(name,-row_idx), y=unassisted, shape=\"Unassisted\", color=\"Unassisted\"),  size=4) +\n",
        "  geom_point(aes(x=reorder(name,-row_idx), y=model, shape=\"Model\", color=\"Model\"),show.legend = F, size=3) +\n",
        "  geom_point(aes(x=reorder(name, -row_idx), y=assisted, shape=\"Assisted\",  color=\"Assisted\"), size =4) +\n",
        "  coord_flip()+\n",
        "  theme_light() +\n",
        "  theme(\n",
        "    legend.position = \"right\",\n",
        "    panel.border = element_blank()) + \n",
        "  scale_shape_manual(name=\"\",values=shape_cols) +\n",
        "  scale_color_manual(name=\"\",values=color_cols) +\n",
        "  scale_fill_manual(name=\"\",values=color_cols, guide=FALSE) +\n",
        "  xlab(\"Participant\") +\n",
        "  ylab(\"Accuracy\") +\n",
        "  ylim(.6, 1.0)\n",
        "\n",
        "graph"
      ],
      "execution_count": 83,
      "outputs": [
        {
          "output_type": "display_data",
          "data": {
            "image/png": "[encoded data removed]",
            "text/plain": [
              "plot without title"
            ]
          },
          "metadata": {
            "tags": [],
            "image/png": {
              "width": 420,
              "height": 420
            },
            "text/plain": {
              "width": 420,
              "height": 420
            }
          }
        }
      ]
    },
    {
      "cell_type": "code",
      "metadata": {
        "colab_type": "code",
        "id": "uf_sEUE8t7Li",
        "outputId": "23c399a9-86ba-469d-df39-dc5db74b641d",
        "colab": {
          "base_uri": "https://localhost:8080/",
          "height": 51
        }
      },
      "source": [
        "ggsave(\"assisted_unassisted_model_accuracy.pdf\", graph)"
      ],
      "execution_count": 84,
      "outputs": [
        {
          "output_type": "stream",
          "text": [
            "Saving 6.67 x 6.67 in image\n",
            "\n"
          ],
          "name": "stderr"
        }
      ]
    },
    {
      "cell_type": "markdown",
      "metadata": {
        "colab_type": "text",
        "id": "zw6-OTh_-6aZ"
      },
      "source": [
        "## Sensitivity/Specificity"
      ]
    },
    {
      "cell_type": "code",
      "metadata": {
        "colab_type": "code",
        "id": "0wnGfphqt7Lu",
        "colab": {}
      },
      "source": [
        "results_stats <- data.frame(matrix(ncol = 8))\n",
        "x <- c(\"name\", \"model_specificity\", \"model_sensitivity\", \"assisted_specificity\", \"unassisted_specificity\", \"unassisted_sensitivity\", \"assisted_sensitivity\", \"type\")\n",
        "results = mutate(results, model_pred = if_else(CHOL>.5, 1, 0))\n",
        "colnames(results_stats) <- x\n",
        "\n",
        "for (p_name in unique(results$name)){\n",
        "    participant_data = filter(results, name == p_name)  %>% mutate_if(is.factor, as.character)\n",
        "    \n",
        "    type = first(participant_data$type)\n",
        "    \n",
        "    model_sens = round(sensitivity(factor(participant_data$model_pred, levels = c(\"1\", \"0\")), factor(participant_data$gt, levels = c(\"1\", \"0\"))), 2)\n",
        "    model_spec = round(specificity(factor(participant_data$model_pred, levels = c(\"1\", \"0\")), factor(participant_data$gt, levels = c(\"1\", \"0\"))), 2)\n",
        "    \n",
        "    unasst_sens = round(sensitivity(factor(participant_data$unasst_pred, levels = c(\"1\", \"0\")), factor(participant_data$gt, levels = c(\"1\", \"0\"))), 2)\n",
        "    unasst_spec = round(specificity(factor(participant_data$unasst_pred, levels = c(\"1\", \"0\")), factor(participant_data$gt, levels = c(\"1\", \"0\"))), 2)\n",
        "    \n",
        "    asst_sens = round(sensitivity(factor(participant_data$asst_pred, levels = c(\"1\", \"0\")), factor(participant_data$gt, levels = c(\"1\", \"0\"))), 2)\n",
        "    asst_spec = round(specificity(factor(participant_data$asst_pred, levels = c(\"1\", \"0\")), factor(participant_data$gt,levels = c(\"1\", \"0\"))), 2)\n",
        "\n",
        "    results_stats = rbind(results_stats, c(name=p_name, \n",
        "                                           model_specificity=model_spec, \n",
        "                                           model_sensitivity=model_sens,\n",
        "                                           assisted_specificity=asst_spec, \n",
        "                                           unassisted_specificity=unasst_spec, \n",
        "                                           unassisted_sensitivity=unasst_sens, \n",
        "                                           assisted_sensitivity=asst_sens, \n",
        "                                           type=type))\n",
        "}\n",
        "\n",
        "results_stats = results_stats  %>%  slice(2:n())"
      ],
      "execution_count": 0,
      "outputs": []
    },
    {
      "cell_type": "code",
      "metadata": {
        "colab_type": "code",
        "id": "D3rsjRdht7Lw",
        "colab": {}
      },
      "source": [
        "asst_sens = round(sensitivity(factor(participant_data$asst_pred, levels = c(\"1\", \"0\")), factor(participant_data$gt, levels = c(\"1\", \"0\"))), 2)\n",
        "asst_spec = round(specificity(factor(participant_data$asst_pred, levels = c(\"1\", \"0\")), factor(participant_data$gt,levels = c(\"1\", \"0\"))), 2)\n"
      ],
      "execution_count": 0,
      "outputs": []
    },
    {
      "cell_type": "code",
      "metadata": {
        "colab_type": "code",
        "id": "-MMygUtJt7L0",
        "outputId": "e856bf5b-4a72-4b9d-d19e-f1e7c2e517a0",
        "colab": {
          "base_uri": "https://localhost:8080/",
          "height": 567
        }
      },
      "source": [
        "results_stats"
      ],
      "execution_count": 87,
      "outputs": [
        {
          "output_type": "display_data",
          "data": {
            "text/plain": [
              "   name                 model_specificity model_sensitivity\n",
              "1  None-GI Specialist 2 0.82              0.78             \n",
              "2  None-GI Specialist 3 0.82              0.8              \n",
              "3  Pathologist NOC 1    0.82              0.78             \n",
              "4  Trainee 1            0.8               0.75             \n",
              "5  Pathologist NOC 2    0.92              0.8              \n",
              "6  GI Specialist 1      0.85              0.9              \n",
              "7  Trainee 3            0.8               0.8              \n",
              "8  None-GI Specialist 1 0.85              0.78             \n",
              "9  GI Specialist 2      0.92              0.9              \n",
              "10 GI Specialist 3      0.92              0.9              \n",
              "11 Trainee 2            0.95              0.85             \n",
              "   assisted_specificity unassisted_specificity unassisted_sensitivity\n",
              "1  0.95                 0.98                   0.65                  \n",
              "2  0.98                 0.98                   0.78                  \n",
              "3  0.98                 1                      0.98                  \n",
              "4  0.88                 0.72                   0.7                   \n",
              "5  0.95                 1                      0.9                   \n",
              "6  1                    1                      0.85                  \n",
              "7  0.92                 0.9                    0.95                  \n",
              "8  0.75                 0.72                   0.95                  \n",
              "9  1                    1                      0.88                  \n",
              "10 0.98                 0.98                   0.98                  \n",
              "11 1                    0.95                   0.92                  \n",
              "   assisted_sensitivity type             \n",
              "1  0.75                 Non-GI Specialist\n",
              "2  0.85                 Non-GI Specialist\n",
              "3  0.92                 Pathologist NOC  \n",
              "4  0.7                  Trainee          \n",
              "5  0.88                 Pathologist NOC  \n",
              "6  0.88                 GI Specialist    \n",
              "7  0.92                 Trainee          \n",
              "8  0.95                 Non-GI Specialist\n",
              "9  0.95                 GI Specialist    \n",
              "10 0.98                 GI Specialist    \n",
              "11 0.95                 Trainee          "
            ],
            "text/latex": "A data.frame: 11 × 8\n\\begin{tabular}{llllllll}\n name & model\\_specificity & model\\_sensitivity & assisted\\_specificity & unassisted\\_specificity & unassisted\\_sensitivity & assisted\\_sensitivity & type\\\\\n <chr> & <chr> & <chr> & <chr> & <chr> & <chr> & <chr> & <chr>\\\\\n\\hline\n\t None-GI Specialist 2 & 0.82 & 0.78 & 0.95 & 0.98 & 0.65 & 0.75 & Non-GI Specialist\\\\\n\t None-GI Specialist 3 & 0.82 & 0.8  & 0.98 & 0.98 & 0.78 & 0.85 & Non-GI Specialist\\\\\n\t Pathologist NOC 1    & 0.82 & 0.78 & 0.98 & 1    & 0.98 & 0.92 & Pathologist NOC  \\\\\n\t Trainee 1            & 0.8  & 0.75 & 0.88 & 0.72 & 0.7  & 0.7  & Trainee          \\\\\n\t Pathologist NOC 2    & 0.92 & 0.8  & 0.95 & 1    & 0.9  & 0.88 & Pathologist NOC  \\\\\n\t GI Specialist 1      & 0.85 & 0.9  & 1    & 1    & 0.85 & 0.88 & GI Specialist    \\\\\n\t Trainee 3            & 0.8  & 0.8  & 0.92 & 0.9  & 0.95 & 0.92 & Trainee          \\\\\n\t None-GI Specialist 1 & 0.85 & 0.78 & 0.75 & 0.72 & 0.95 & 0.95 & Non-GI Specialist\\\\\n\t GI Specialist 2      & 0.92 & 0.9  & 1    & 1    & 0.88 & 0.95 & GI Specialist    \\\\\n\t GI Specialist 3      & 0.92 & 0.9  & 0.98 & 0.98 & 0.98 & 0.98 & GI Specialist    \\\\\n\t Trainee 2            & 0.95 & 0.85 & 1    & 0.95 & 0.92 & 0.95 & Trainee          \\\\\n\\end{tabular}\n",
            "text/markdown": "\nA data.frame: 11 × 8\n\n| name &lt;chr&gt; | model_specificity &lt;chr&gt; | model_sensitivity &lt;chr&gt; | assisted_specificity &lt;chr&gt; | unassisted_specificity &lt;chr&gt; | unassisted_sensitivity &lt;chr&gt; | assisted_sensitivity &lt;chr&gt; | type &lt;chr&gt; |\n|---|---|---|---|---|---|---|---|\n| None-GI Specialist 2 | 0.82 | 0.78 | 0.95 | 0.98 | 0.65 | 0.75 | Non-GI Specialist |\n| None-GI Specialist 3 | 0.82 | 0.8  | 0.98 | 0.98 | 0.78 | 0.85 | Non-GI Specialist |\n| Pathologist NOC 1    | 0.82 | 0.78 | 0.98 | 1    | 0.98 | 0.92 | Pathologist NOC   |\n| Trainee 1            | 0.8  | 0.75 | 0.88 | 0.72 | 0.7  | 0.7  | Trainee           |\n| Pathologist NOC 2    | 0.92 | 0.8  | 0.95 | 1    | 0.9  | 0.88 | Pathologist NOC   |\n| GI Specialist 1      | 0.85 | 0.9  | 1    | 1    | 0.85 | 0.88 | GI Specialist     |\n| Trainee 3            | 0.8  | 0.8  | 0.92 | 0.9  | 0.95 | 0.92 | Trainee           |\n| None-GI Specialist 1 | 0.85 | 0.78 | 0.75 | 0.72 | 0.95 | 0.95 | Non-GI Specialist |\n| GI Specialist 2      | 0.92 | 0.9  | 1    | 1    | 0.88 | 0.95 | GI Specialist     |\n| GI Specialist 3      | 0.92 | 0.9  | 0.98 | 0.98 | 0.98 | 0.98 | GI Specialist     |\n| Trainee 2            | 0.95 | 0.85 | 1    | 0.95 | 0.92 | 0.95 | Trainee           |\n\n",
            "text/html": [
              "<table>\n",
              "<caption>A data.frame: 11 × 8</caption>\n",
              "<thead>\n",
              "\t<tr><th scope=col>name</th><th scope=col>model_specificity</th><th scope=col>model_sensitivity</th><th scope=col>assisted_specificity</th><th scope=col>unassisted_specificity</th><th scope=col>unassisted_sensitivity</th><th scope=col>assisted_sensitivity</th><th scope=col>type</th></tr>\n",
              "\t<tr><th scope=col>&lt;chr&gt;</th><th scope=col>&lt;chr&gt;</th><th scope=col>&lt;chr&gt;</th><th scope=col>&lt;chr&gt;</th><th scope=col>&lt;chr&gt;</th><th scope=col>&lt;chr&gt;</th><th scope=col>&lt;chr&gt;</th><th scope=col>&lt;chr&gt;</th></tr>\n",
              "</thead>\n",
              "<tbody>\n",
              "\t<tr><td>None-GI Specialist 2</td><td>0.82</td><td>0.78</td><td>0.95</td><td>0.98</td><td>0.65</td><td>0.75</td><td>Non-GI Specialist</td></tr>\n",
              "\t<tr><td>None-GI Specialist 3</td><td>0.82</td><td>0.8 </td><td>0.98</td><td>0.98</td><td>0.78</td><td>0.85</td><td>Non-GI Specialist</td></tr>\n",
              "\t<tr><td>Pathologist NOC 1   </td><td>0.82</td><td>0.78</td><td>0.98</td><td>1   </td><td>0.98</td><td>0.92</td><td>Pathologist NOC  </td></tr>\n",
              "\t<tr><td>Trainee 1           </td><td>0.8 </td><td>0.75</td><td>0.88</td><td>0.72</td><td>0.7 </td><td>0.7 </td><td>Trainee          </td></tr>\n",
              "\t<tr><td>Pathologist NOC 2   </td><td>0.92</td><td>0.8 </td><td>0.95</td><td>1   </td><td>0.9 </td><td>0.88</td><td>Pathologist NOC  </td></tr>\n",
              "\t<tr><td>GI Specialist 1     </td><td>0.85</td><td>0.9 </td><td>1   </td><td>1   </td><td>0.85</td><td>0.88</td><td>GI Specialist    </td></tr>\n",
              "\t<tr><td>Trainee 3           </td><td>0.8 </td><td>0.8 </td><td>0.92</td><td>0.9 </td><td>0.95</td><td>0.92</td><td>Trainee          </td></tr>\n",
              "\t<tr><td>None-GI Specialist 1</td><td>0.85</td><td>0.78</td><td>0.75</td><td>0.72</td><td>0.95</td><td>0.95</td><td>Non-GI Specialist</td></tr>\n",
              "\t<tr><td>GI Specialist 2     </td><td>0.92</td><td>0.9 </td><td>1   </td><td>1   </td><td>0.88</td><td>0.95</td><td>GI Specialist    </td></tr>\n",
              "\t<tr><td>GI Specialist 3     </td><td>0.92</td><td>0.9 </td><td>0.98</td><td>0.98</td><td>0.98</td><td>0.98</td><td>GI Specialist    </td></tr>\n",
              "\t<tr><td>Trainee 2           </td><td>0.95</td><td>0.85</td><td>1   </td><td>0.95</td><td>0.92</td><td>0.95</td><td>Trainee          </td></tr>\n",
              "</tbody>\n",
              "</table>\n"
            ]
          },
          "metadata": {
            "tags": []
          }
        }
      ]
    },
    {
      "cell_type": "code",
      "metadata": {
        "colab_type": "code",
        "id": "auFIO_ibt7L-",
        "outputId": "3807d8f1-fb57-4dd0-cf48-ff2dbe449933",
        "colab": {
          "base_uri": "https://localhost:8080/",
          "height": 187
        }
      },
      "source": [
        "cols.num <- c(\"model_specificity\", \"model_sensitivity\", \"assisted_specificity\", \"unassisted_specificity\", \"unassisted_sensitivity\", \"assisted_sensitivity\")\n",
        "results_stats[cols.num] <- sapply(results_stats[cols.num],as.numeric)\n",
        "glimpse(results_stats)"
      ],
      "execution_count": 88,
      "outputs": [
        {
          "output_type": "stream",
          "text": [
            "Observations: 11\n",
            "Variables: 8\n",
            "$ name                   \u001b[3m\u001b[90m<chr>\u001b[39m\u001b[23m \"None-GI Specialist 2\", \"None-GI Specialist 3\"…\n",
            "$ model_specificity      \u001b[3m\u001b[90m<dbl>\u001b[39m\u001b[23m 0.82, 0.82, 0.82, 0.80, 0.92, 0.85, 0.80, 0.85…\n",
            "$ model_sensitivity      \u001b[3m\u001b[90m<dbl>\u001b[39m\u001b[23m 0.78, 0.80, 0.78, 0.75, 0.80, 0.90, 0.80, 0.78…\n",
            "$ assisted_specificity   \u001b[3m\u001b[90m<dbl>\u001b[39m\u001b[23m 0.95, 0.98, 0.98, 0.88, 0.95, 1.00, 0.92, 0.75…\n",
            "$ unassisted_specificity \u001b[3m\u001b[90m<dbl>\u001b[39m\u001b[23m 0.98, 0.98, 1.00, 0.72, 1.00, 1.00, 0.90, 0.72…\n",
            "$ unassisted_sensitivity \u001b[3m\u001b[90m<dbl>\u001b[39m\u001b[23m 0.65, 0.78, 0.98, 0.70, 0.90, 0.85, 0.95, 0.95…\n",
            "$ assisted_sensitivity   \u001b[3m\u001b[90m<dbl>\u001b[39m\u001b[23m 0.75, 0.85, 0.92, 0.70, 0.88, 0.88, 0.92, 0.95…\n",
            "$ type                   \u001b[3m\u001b[90m<chr>\u001b[39m\u001b[23m \"Non-GI Specialist\", \"Non-GI Specialist\", \"Pat…\n"
          ],
          "name": "stdout"
        }
      ]
    },
    {
      "cell_type": "code",
      "metadata": {
        "colab_type": "code",
        "id": "PjvOBAutDoD9",
        "colab": {}
      },
      "source": [
        "data = results_stats"
      ],
      "execution_count": 0,
      "outputs": []
    },
    {
      "cell_type": "code",
      "metadata": {
        "colab_type": "code",
        "id": "10n1akD3t7ME",
        "colab": {}
      },
      "source": [
        "data = data  %>% mutate(type_order = if_else(type == 'GI Specialist', 1, if_else(type == 'Non-GI Specialist', 2, if_else(type == 'Pathologist NOC', 0, 3))))\n",
        "data = arrange(data, desc(type_order), name)  %>% \n",
        "ungroup()  %>% mutate(row_idx = row_number())"
      ],
      "execution_count": 0,
      "outputs": []
    },
    {
      "cell_type": "code",
      "metadata": {
        "colab_type": "code",
        "id": "Gozv5d83t7MG",
        "colab": {}
      },
      "source": [
        ""
      ],
      "execution_count": 0,
      "outputs": []
    },
    {
      "cell_type": "code",
      "metadata": {
        "colab_type": "code",
        "id": "8XV70EATt7MX",
        "outputId": "e5b77d7a-f2ec-4e65-9ab0-ad0ea8e43f4d",
        "colab": {
          "base_uri": "https://localhost:8080/",
          "height": 437
        }
      },
      "source": [
        "write.csv(data, \"assisted_unassisted_specificity_sensitivity.csv\")\n",
        "\n",
        "shape_cols <- c(\"Model\"=8, \"Unassisted\"=16, \"Assisted\"=18)\n",
        "color_cols <- c(\"Model\"=\"#444444\", \"Unassisted\"=\"gray\", \"Assisted\"=\"purple\", \"white\" = \"white\", \"black\"= \"gray\")\n",
        "\n",
        "data = data  %>% mutate(type_color = if_else(type_order %% 2 != 0, \"white\", \"black\"))\n",
        "\n",
        "# With a bit more style\n",
        "graph = ggplot(data) +\n",
        "  geom_segment(aes(x=reorder(name, -row_idx), xend=reorder(name, -row_idx), y=unassisted_specificity, yend=assisted_specificity), color='gray') +\n",
        "  geom_rect(mapping=aes(xmin= 12 - row_idx - .5, xmax=(12 - row_idx) +  .5, ymin=.6, ymax=1., fill=type_color), alpha=.3, ) +\n",
        "  geom_point(aes(x=reorder(name,-row_idx), y=unassisted_specificity, shape=\"Unassisted\", color=\"Unassisted\"),  size=4) +\n",
        "  geom_point(aes(x=reorder(name,-row_idx), y=model_specificity, shape=\"Model\", color=\"Model\"),show.legend = F, size=3) +\n",
        "  geom_point(aes(x=reorder(name, -row_idx), y=assisted_specificity, shape=\"Assisted\",  color=\"Assisted\"), size =4) +\n",
        "  coord_flip()+\n",
        "  theme_light() +\n",
        "  theme(\n",
        "    legend.position = \"right\",\n",
        "    panel.border = element_blank()) + \n",
        "  scale_shape_manual(name=\"\",values=shape_cols) +\n",
        "  scale_color_manual(name=\"\",values=color_cols) +\n",
        "  scale_fill_manual(name=\"\",values=color_cols, guide=FALSE) +\n",
        "  xlab(\"Participant\") +\n",
        "  ylab(\"Specificity\") +\n",
        "  ylim(.6, 1.0)\n",
        "\n",
        "graph\n"
      ],
      "execution_count": 92,
      "outputs": [
        {
          "output_type": "display_data",
          "data": {
            "image/png": "[encoded data removed]",
            "text/plain": [
              "plot without title"
            ]
          },
          "metadata": {
            "tags": [],
            "image/png": {
              "width": 420,
              "height": 420
            },
            "text/plain": {
              "width": 420,
              "height": 420
            }
          }
        }
      ]
    },
    {
      "cell_type": "code",
      "metadata": {
        "colab_type": "code",
        "id": "KL3BHQEUt7Ma",
        "outputId": "2eed56b0-dd73-4500-ddd9-a3c4d2d09a12",
        "colab": {
          "base_uri": "https://localhost:8080/",
          "height": 51
        }
      },
      "source": [
        "ggsave(\"assisted_unassisted_specificity.pdf\", graph)"
      ],
      "execution_count": 93,
      "outputs": [
        {
          "output_type": "stream",
          "text": [
            "Saving 6.67 x 6.67 in image\n",
            "\n"
          ],
          "name": "stderr"
        }
      ]
    },
    {
      "cell_type": "code",
      "metadata": {
        "colab_type": "code",
        "id": "tAt_ELE5t7Md",
        "outputId": "45526172-8643-4b15-8418-79f1b271a762",
        "colab": {
          "base_uri": "https://localhost:8080/",
          "height": 437
        }
      },
      "source": [
        "shape_cols <- c(\"Model\"=8, \"Unassisted\"=16, \"Assisted\"=18)\n",
        "color_cols <- c(\"Model\"=\"#444444\", \"Unassisted\"=\"gray\", \"Assisted\"=\"purple\", \"white\" = \"white\", \"black\"= \"gray\")\n",
        "data = data  %>% mutate(type_color = if_else(type_order %% 2 != 0, \"white\", \"black\"))\n",
        "\n",
        "# With a bit more style\n",
        "graph = ggplot(data) +\n",
        "  geom_segment(aes(x=reorder(name, -row_idx), xend=reorder(name, -row_idx), y=unassisted_sensitivity, yend=assisted_sensitivity), color='gray') +\n",
        "  geom_rect(mapping=aes(xmin= 12 - row_idx - .5, xmax=(12 - row_idx) +  .5, ymin=.6, ymax=1., fill=type_color), alpha=.3, ) +\n",
        "  geom_point(aes(x=reorder(name,-row_idx), y=unassisted_sensitivity, shape=\"Unassisted\", color=\"Unassisted\"),  size=4) +\n",
        "  geom_point(aes(x=reorder(name,-row_idx), y=model_sensitivity, shape=\"Model\", color=\"Model\"),show.legend = F, size=3) +\n",
        "  geom_point(aes(x=reorder(name, -row_idx), y=assisted_sensitivity, shape=\"Assisted\",  color=\"Assisted\"), size =4) +\n",
        "  coord_flip()+\n",
        "  theme_light() +\n",
        "  theme(\n",
        "    legend.position = \"right\",\n",
        "    panel.border = element_blank()) + \n",
        "  scale_shape_manual(name=\"\",values=shape_cols) +\n",
        "  scale_color_manual(name=\"\",values=color_cols) +\n",
        "  scale_fill_manual(name=\"\",values=color_cols, guide=FALSE) +\n",
        "  xlab(\"Participant\") +\n",
        "  ylab(\"Sensitivity\") +\n",
        "  ylim(.6, 1.0)\n",
        "\n",
        "graph\n"
      ],
      "execution_count": 94,
      "outputs": [
        {
          "output_type": "display_data",
          "data": {
            "image/png": "[encoded data removed]",
            "text/plain": [
              "plot without title"
            ]
          },
          "metadata": {
            "tags": [],
            "image/png": {
              "width": 420,
              "height": 420
            },
            "text/plain": {
              "width": 420,
              "height": 420
            }
          }
        }
      ]
    },
    {
      "cell_type": "code",
      "metadata": {
        "colab_type": "code",
        "id": "JkNyELTBt7Mg",
        "outputId": "d7e1c467-15d2-4ffc-b5dc-7a8eac364cfc",
        "colab": {
          "base_uri": "https://localhost:8080/",
          "height": 51
        }
      },
      "source": [
        "ggsave(\"assisted_unassisted_model_sensitivity.pdf\", graph)"
      ],
      "execution_count": 95,
      "outputs": [
        {
          "output_type": "stream",
          "text": [
            "Saving 6.67 x 6.67 in image\n",
            "\n"
          ],
          "name": "stderr"
        }
      ]
    }
  ]
}