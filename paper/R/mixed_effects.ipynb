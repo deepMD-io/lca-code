{
  "nbformat": 4,
  "nbformat_minor": 0,
  "metadata": {
    "kernelspec": {
      "display_name": "R",
      "language": "R",
      "name": "ir"
    },
    "language_info": {
      "codemirror_mode": "r",
      "file_extension": ".r",
      "mimetype": "text/x-r-source",
      "name": "R",
      "pygments_lexer": "r",
      "version": "3.6.1"
    },
    "colab": {
      "name": "mixed-effects.ipynb",
      "provenance": [],
      "collapsed_sections": [],
      "toc_visible": true
    }
  },
  "cells": [
    {
      "cell_type": "markdown",
      "metadata": {
        "id": "1Ct8xI5N87qj",
        "colab_type": "text"
      },
      "source": [
        "# Setup\n",
        "Run below for setup and data loading:"
      ]
    },
    {
      "cell_type": "code",
      "metadata": {
        "id": "mysBulMY5sxq",
        "colab_type": "code",
        "outputId": "d0d37822-05f5-456a-929b-323f896dae9f",
        "colab": {
          "base_uri": "https://localhost:8080/",
          "height": 511
        }
      },
      "source": [
        "if(!require(lme4)){\n",
        "    install.packages(\"lme4\")\n",
        "}\n",
        "\n",
        "library(lme4) \n",
        "library(tidyr)  \n",
        "library(dplyr)\n",
        "library(ggplot2)\n",
        "\n",
        "results = read.csv(\"model_input.csv\", header=TRUE, sep=\",\")"
      ],
      "execution_count": 1,
      "outputs": [
        {
          "output_type": "stream",
          "text": [
            "Loading required package: lme4\n",
            "Loading required package: Matrix\n",
            "\n",
            "Attaching package: ‘tidyr’\n",
            "\n",
            "The following objects are masked from ‘package:Matrix’:\n",
            "\n",
            "    expand, pack, unpack\n",
            "\n",
            "\n",
            "Attaching package: ‘dplyr’\n",
            "\n",
            "The following objects are masked from ‘package:stats’:\n",
            "\n",
            "    filter, lag\n",
            "\n",
            "The following objects are masked from ‘package:base’:\n",
            "\n",
            "    intersect, setdiff, setequal, union\n",
            "\n"
          ],
          "name": "stderr"
        }
      ]
    },
    {
      "cell_type": "code",
      "metadata": {
        "id": "ohpDmo8b5sxs",
        "colab_type": "code",
        "outputId": "6cc2fb8c-a4be-4e57-8870-5138e581850d",
        "colab": {
          "base_uri": "https://localhost:8080/",
          "height": 188
        }
      },
      "source": [
        "nrow(results)"
      ],
      "execution_count": 2,
      "outputs": [
        {
          "output_type": "display_data",
          "data": {
            "text/plain": [
              "[1] 1760"
            ],
            "text/latex": "1760",
            "text/markdown": "1760",
            "text/html": [
              "1760"
            ]
          },
          "metadata": {
            "tags": []
          }
        }
      ]
    },
    {
      "cell_type": "code",
      "metadata": {
        "id": "y28koXtZ5sx2",
        "colab_type": "code",
        "colab": {}
      },
      "source": [
        "rearranged_results <- droplevels(results)"
      ],
      "execution_count": 0,
      "outputs": []
    },
    {
      "cell_type": "code",
      "metadata": {
        "id": "n-Fqlemw5sx9",
        "colab_type": "code",
        "colab": {}
      },
      "source": [
        "data <- mutate(rearranged_results, 'participant' = as.factor(participant)) %>% \n",
        "        mutate('slide' = as.factor(slide))  %>% \n",
        "        mutate('order' = as.factor(order))   %>% \n",
        "        mutate('type' = as.factor(type))  %>% \n",
        "        mutate('grade' = as.factor(grade)) %>% \n",
        "        mutate('mode' = as.factor(mode)) "
      ],
      "execution_count": 0,
      "outputs": []
    },
    {
      "cell_type": "code",
      "metadata": {
        "id": "kYNOuPlX5syC",
        "colab_type": "code",
        "colab": {}
      },
      "source": [
        "run_model <- function(data) {\n",
        "  model0 <- glmer(accuracy ~  (1|participant) + (1|slide) + grade + type, family = 'binomial', data=data)\n",
        "  model1 <- glmer(accuracy ~  (1|participant) + (1|slide) + grade + type + mode, family = 'binomial', data=data)\n",
        "  print(model1)\n",
        "  print(anova(model0, model1))\n",
        "  se <- sqrt(diag(vcov(model1)))\n",
        "  # table of estimates with 95% CI\n",
        "  tab <- cbind(Est = fixef(model1), LL = fixef(model1) - 1.96 * se, UL = fixef(model1) + 1.96 * se)\n",
        "  print(\"Odds Ratio\")\n",
        "  print(exp(tab))\n",
        "}"
      ],
      "execution_count": 0,
      "outputs": []
    },
    {
      "cell_type": "markdown",
      "metadata": {
        "id": "l7iABZwY5syE",
        "colab_type": "text"
      },
      "source": [
        "# Effect of Assistance on ALL Participants"
      ]
    },
    {
      "cell_type": "code",
      "metadata": {
        "scrolled": true,
        "id": "us96ihrh5syF",
        "colab_type": "code",
        "outputId": "9cffc389-6005-43d1-e602-2c4456c12f65",
        "colab": {
          "base_uri": "https://localhost:8080/",
          "height": 786
        }
      },
      "source": [
        "m = run_model(data)"
      ],
      "execution_count": 6,
      "outputs": [
        {
          "output_type": "stream",
          "text": [
            "Warning message in checkConv(attr(opt, \"derivs\"), opt$par, ctrl = control$checkConv, :\n",
            "“Model failed to converge with max|grad| = 0.108416 (tol = 0.001, component 1)”"
          ],
          "name": "stderr"
        },
        {
          "output_type": "stream",
          "text": [
            "Generalized linear mixed model fit by maximum likelihood (Laplace\n",
            "  Approximation) [glmerMod]\n",
            " Family: binomial  ( logit )\n",
            "Formula: accuracy ~ (1 | participant) + (1 | slide) + grade + type + mode\n",
            "   Data: data\n",
            "      AIC       BIC    logLik  deviance  df.resid \n",
            " 897.2970  946.5547 -439.6485  879.2970      1751 \n",
            "Random effects:\n",
            " Groups      Name        Std.Dev.\n",
            " slide       (Intercept) 1.3449  \n",
            " participant (Intercept) 0.6191  \n",
            "Number of obs: 1760, groups:  slide, 80; participant, 22\n",
            "Fixed Effects:\n",
            "(Intercept)       grade2       grade3        type2        type3        type4  \n",
            "    4.35677     -0.24347     -1.85180     -1.59005     -1.20766     -0.05191  \n",
            "      mode1  \n",
            "    0.24784  \n",
            "convergence code 0; 1 optimizer warnings; 0 lme4 warnings \n",
            "Data: data\n",
            "Models:\n",
            "model0: accuracy ~ (1 | participant) + (1 | slide) + grade + type\n",
            "model1: accuracy ~ (1 | participant) + (1 | slide) + grade + type + mode\n",
            "       Df    AIC    BIC  logLik deviance  Chisq Chi Df Pr(>Chisq)\n",
            "model0  8 897.06 940.84 -440.53   881.06                         \n",
            "model1  9 897.30 946.55 -439.65   879.30 1.7618      1     0.1844\n",
            "[1] \"Odds Ratio\"\n",
            "                   Est          LL          UL\n",
            "(Intercept) 78.0050391 20.51408403 296.6150532\n",
            "grade2       0.7839058  0.23911439   2.5699344\n",
            "grade3       0.1569537  0.03646468   0.6755706\n",
            "type2        0.2039155  0.08192163   0.5075771\n",
            "type3        0.2988957  0.11855681   0.7535515\n",
            "type4        0.9494103  0.31793064   2.8351463\n",
            "mode1        1.2812537  0.88170766   1.8618540\n"
          ],
          "name": "stdout"
        }
      ]
    },
    {
      "cell_type": "markdown",
      "metadata": {
        "id": "oIpxEJWb5syH",
        "colab_type": "text"
      },
      "source": [
        "# Effect of Assistance on all except Pathologist NOC"
      ]
    },
    {
      "cell_type": "code",
      "metadata": {
        "scrolled": true,
        "id": "WoqzwMYB5syH",
        "colab_type": "code",
        "outputId": "6effdc52-0632-4a5f-a5b8-36066a111c3a",
        "colab": {
          "base_uri": "https://localhost:8080/",
          "height": 715
        }
      },
      "source": [
        "m = run_model(data   %>%  filter(type != 4))"
      ],
      "execution_count": 7,
      "outputs": [
        {
          "output_type": "stream",
          "text": [
            "Generalized linear mixed model fit by maximum likelihood (Laplace\n",
            "  Approximation) [glmerMod]\n",
            " Family: binomial  ( logit )\n",
            "Formula: accuracy ~ (1 | participant) + (1 | slide) + grade + type + mode\n",
            "   Data: data\n",
            "      AIC       BIC    logLik  deviance  df.resid \n",
            " 797.5641  839.7433 -390.7821  781.5641      1432 \n",
            "Random effects:\n",
            " Groups      Name        Std.Dev.\n",
            " slide       (Intercept) 1.3313  \n",
            " participant (Intercept) 0.6578  \n",
            "Number of obs: 1440, groups:  slide, 80; participant, 18\n",
            "Fixed Effects:\n",
            "(Intercept)       grade2       grade3        type2        type3        mode1  \n",
            "     4.2889      -0.2535      -1.8403      -1.5967      -1.2106       0.4047  \n",
            "Data: data\n",
            "Models:\n",
            "model0: accuracy ~ (1 | participant) + (1 | slide) + grade + type\n",
            "model1: accuracy ~ (1 | participant) + (1 | slide) + grade + type + mode\n",
            "       Df    AIC    BIC  logLik deviance  Chisq Chi Df Pr(>Chisq)  \n",
            "model0  7 799.59 836.50 -392.80   785.59                           \n",
            "model1  8 797.56 839.74 -390.78   781.56 4.0304      1    0.04469 *\n",
            "---\n",
            "Signif. codes:  0 ‘***’ 0.001 ‘**’ 0.01 ‘*’ 0.05 ‘.’ 0.1 ‘ ’ 1\n",
            "[1] \"Odds Ratio\"\n",
            "                   Est          LL          UL\n",
            "(Intercept) 72.8890543 18.75977917 283.2023869\n",
            "grade2       0.7760538  0.23477092   2.5653069\n",
            "grade3       0.1587671  0.03649875   0.6906261\n",
            "type2        0.2025563  0.07850562   0.5226255\n",
            "type3        0.2980266  0.11420649   0.7777131\n",
            "mode1        1.4988095  1.00726061   2.2302369\n"
          ],
          "name": "stdout"
        }
      ]
    },
    {
      "cell_type": "markdown",
      "metadata": {
        "id": "z5GIYPVUi4Kn",
        "colab_type": "text"
      },
      "source": [
        "# Effect of Experience Level"
      ]
    },
    {
      "cell_type": "code",
      "metadata": {
        "id": "dd7o6idw5szD",
        "colab_type": "code",
        "outputId": "5341c586-0ef5-41aa-af19-e17e25bab0df",
        "colab": {
          "base_uri": "https://localhost:8080/",
          "height": 749
        }
      },
      "source": [
        "model0 <- glmer(accuracy ~ (1|participant) +  (1|slide) + grade + mode, family = 'binomial', data=data)\n",
        "print(model0)\n",
        "model1 <- glmer(accuracy ~ (1|participant) +  (1|slide) + grade + mode + type, family = 'binomial', data=data)\n",
        "#print(model1)\n",
        "print(anova(model0, model1))\n",
        "se <- sqrt(diag(vcov(model1)))\n",
        "# table of estimates with 95% CI\n",
        "tab <- cbind(Est = fixef(model1), LL = fixef(model1) - 1.96 * se, UL = fixef(model1) + 1.96 * se)\n",
        "print(\"Odds Ratio\")\n",
        "print(exp(tab))"
      ],
      "execution_count": 8,
      "outputs": [
        {
          "output_type": "stream",
          "text": [
            "Generalized linear mixed model fit by maximum likelihood (Laplace\n",
            "  Approximation) [glmerMod]\n",
            " Family: binomial  ( logit )\n",
            "Formula: accuracy ~ (1 | participant) + (1 | slide) + grade + mode\n",
            "   Data: data\n",
            "      AIC       BIC    logLik  deviance  df.resid \n",
            " 904.3368  937.1752 -446.1684  892.3368      1754 \n",
            "Random effects:\n",
            " Groups      Name        Std.Dev.\n",
            " slide       (Intercept) 1.342   \n",
            " participant (Intercept) 0.914   \n",
            "Number of obs: 1760, groups:  slide, 80; participant, 22\n",
            "Fixed Effects:\n",
            "(Intercept)       grade2       grade3        mode1  \n",
            "     3.5805      -0.2623      -1.8612       0.2528  \n"
          ],
          "name": "stdout"
        },
        {
          "output_type": "stream",
          "text": [
            "Warning message in checkConv(attr(opt, \"derivs\"), opt$par, ctrl = control$checkConv, :\n",
            "“Model failed to converge with max|grad| = 0.109021 (tol = 0.001, component 1)”"
          ],
          "name": "stderr"
        },
        {
          "output_type": "stream",
          "text": [
            "Data: data\n",
            "Models:\n",
            "model0: accuracy ~ (1 | participant) + (1 | slide) + grade + mode\n",
            "model1: accuracy ~ (1 | participant) + (1 | slide) + grade + mode + type\n",
            "       Df    AIC    BIC  logLik deviance Chisq Chi Df Pr(>Chisq)   \n",
            "model0  6 904.34 937.18 -446.17   892.34                           \n",
            "model1  9 897.30 946.55 -439.65   879.30 13.04      3   0.004551 **\n",
            "---\n",
            "Signif. codes:  0 ‘***’ 0.001 ‘**’ 0.01 ‘*’ 0.05 ‘.’ 0.1 ‘ ’ 1\n",
            "[1] \"Odds Ratio\"\n",
            "                   Est          LL          UL\n",
            "(Intercept) 78.0277090 20.51819519 296.7280168\n",
            "grade2       0.7837618  0.23905397   2.5696396\n",
            "grade3       0.1569577  0.03646385   0.6756206\n",
            "mode1        1.2811291  0.88162150   1.8616738\n",
            "type2        0.2038944  0.08190900   0.5075500\n",
            "type3        0.2988406  0.11853028   0.7534421\n",
            "type4        0.9491016  0.31781128   2.8343668\n"
          ],
          "name": "stdout"
        }
      ]
    },
    {
      "cell_type": "markdown",
      "metadata": {
        "colab_type": "text",
        "id": "rvMggN4hjIJA"
      },
      "source": [
        "# Effect of Tumor Grade"
      ]
    },
    {
      "cell_type": "code",
      "metadata": {
        "colab_type": "code",
        "id": "kiiMlYMcjIJC",
        "colab": {
          "base_uri": "https://localhost:8080/",
          "height": 1000
        },
        "outputId": "87a2e929-7fd7-4ecc-b3d3-c6f15d6081aa"
      },
      "source": [
        "model0 <- glmer(accuracy ~ (1|participant) + (1|slide) + mode + type, family = 'binomial', data=data)\n",
        "print(model0)\n",
        "model1 <- glmer(accuracy ~ (1|participant) + (1|slide) + mode + type + grade, family = 'binomial', data=data)\n",
        "print(model1)\n",
        "print(anova(model0, model1))\n",
        "se <- sqrt(diag(vcov(model1)))\n",
        "# table of estimates with 95% CI\n",
        "tab <- cbind(Est = fixef(model1), LL = fixef(model1) - 1.96 * se, UL = fixef(model1) + 1.96 * se)\n",
        "print(\"Odds Ratio\")\n",
        "print(exp(tab))"
      ],
      "execution_count": 9,
      "outputs": [
        {
          "output_type": "stream",
          "text": [
            "Generalized linear mixed model fit by maximum likelihood (Laplace\n",
            "  Approximation) [glmerMod]\n",
            " Family: binomial  ( logit )\n",
            "Formula: accuracy ~ (1 | participant) + (1 | slide) + mode + type\n",
            "   Data: data\n",
            "      AIC       BIC    logLik  deviance  df.resid \n",
            " 902.5506  940.8621 -444.2753  888.5506      1753 \n",
            "Random effects:\n",
            " Groups      Name        Std.Dev.\n",
            " slide       (Intercept) 1.4983  \n",
            " participant (Intercept) 0.6268  \n",
            "Number of obs: 1760, groups:  slide, 80; participant, 22\n",
            "Fixed Effects:\n",
            "(Intercept)        mode1        type2        type3        type4  \n",
            "    3.98297      0.25273     -1.59996     -1.22100     -0.07568  \n"
          ],
          "name": "stdout"
        },
        {
          "output_type": "stream",
          "text": [
            "Warning message in checkConv(attr(opt, \"derivs\"), opt$par, ctrl = control$checkConv, :\n",
            "“Model failed to converge with max|grad| = 0.106512 (tol = 0.001, component 1)”"
          ],
          "name": "stderr"
        },
        {
          "output_type": "stream",
          "text": [
            "Generalized linear mixed model fit by maximum likelihood (Laplace\n",
            "  Approximation) [glmerMod]\n",
            " Family: binomial  ( logit )\n",
            "Formula: accuracy ~ (1 | participant) + (1 | slide) + mode + type + grade\n",
            "   Data: data\n",
            "      AIC       BIC    logLik  deviance  df.resid \n",
            " 897.2970  946.5547 -439.6485  879.2970      1751 \n",
            "Random effects:\n",
            " Groups      Name        Std.Dev.\n",
            " slide       (Intercept) 1.3450  \n",
            " participant (Intercept) 0.6191  \n",
            "Number of obs: 1760, groups:  slide, 80; participant, 22\n",
            "Fixed Effects:\n",
            "(Intercept)        mode1        type2        type3        type4       grade2  \n",
            "    4.35693      0.24776     -1.59002     -1.20806     -0.05227     -0.24354  \n",
            "     grade3  \n",
            "   -1.85152  \n",
            "convergence code 0; 1 optimizer warnings; 0 lme4 warnings \n",
            "Data: data\n",
            "Models:\n",
            "model0: accuracy ~ (1 | participant) + (1 | slide) + mode + type\n",
            "model1: accuracy ~ (1 | participant) + (1 | slide) + mode + type + grade\n",
            "       Df    AIC    BIC  logLik deviance  Chisq Chi Df Pr(>Chisq)   \n",
            "model0  7 902.55 940.86 -444.28   888.55                            \n",
            "model1  9 897.30 946.55 -439.65   879.30 9.2536      2   0.009786 **\n",
            "---\n",
            "Signif. codes:  0 ‘***’ 0.001 ‘**’ 0.01 ‘*’ 0.05 ‘.’ 0.1 ‘ ’ 1\n",
            "[1] \"Odds Ratio\"\n",
            "                   Est          LL          UL\n",
            "(Intercept) 78.0174985 20.50771227 296.8020025\n",
            "mode1        1.2811465  0.88163173   1.8617028\n",
            "type2        0.2039222  0.08191332   0.5076619\n",
            "type3        0.2987762  0.11849622   0.7533337\n",
            "type4        0.9490723  0.31777082   2.8345528\n",
            "grade2       0.7838519  0.23901236   2.5706779\n",
            "grade3       0.1569979  0.03645704   0.6760929\n"
          ],
          "name": "stdout"
        }
      ]
    },
    {
      "cell_type": "markdown",
      "metadata": {
        "id": "zvIUG7uut2hb",
        "colab_type": "text"
      },
      "source": [
        "# Effect of model correctness on accuracy"
      ]
    },
    {
      "cell_type": "code",
      "metadata": {
        "id": "3TVA-HIqfmgO",
        "colab_type": "code",
        "colab": {}
      },
      "source": [
        "model_wrong_set = data %>% filter(errormodel == 1)\n",
        "model_right_set = data %>% filter(errormodel == 0)\n"
      ],
      "execution_count": 0,
      "outputs": []
    },
    {
      "cell_type": "code",
      "metadata": {
        "id": "3hpoKri2KPBr",
        "colab_type": "code",
        "outputId": "6ac61858-9965-4b49-ad2b-a3d6c0f4508f",
        "colab": {
          "base_uri": "https://localhost:8080/",
          "height": 188
        }
      },
      "source": [
        "nrow(model_wrong_set)"
      ],
      "execution_count": 11,
      "outputs": [
        {
          "output_type": "display_data",
          "data": {
            "text/plain": [
              "[1] 278"
            ],
            "text/latex": "278",
            "text/markdown": "278",
            "text/html": [
              "278"
            ]
          },
          "metadata": {
            "tags": []
          }
        }
      ]
    },
    {
      "cell_type": "code",
      "metadata": {
        "id": "rkhZC7NzKQk8",
        "colab_type": "code",
        "outputId": "541e632e-d845-4422-a75f-10982521e80d",
        "colab": {
          "base_uri": "https://localhost:8080/",
          "height": 188
        }
      },
      "source": [
        "nrow(model_right_set)"
      ],
      "execution_count": 12,
      "outputs": [
        {
          "output_type": "display_data",
          "data": {
            "text/plain": [
              "[1] 1482"
            ],
            "text/latex": "1482",
            "text/markdown": "1482",
            "text/html": [
              "1482"
            ]
          },
          "metadata": {
            "tags": []
          }
        }
      ]
    },
    {
      "cell_type": "code",
      "metadata": {
        "id": "Das9Kqx1mLTB",
        "colab_type": "code",
        "outputId": "9b816b84-7844-4a30-e9d2-3c4954a994c2",
        "colab": {
          "base_uri": "https://localhost:8080/",
          "height": 514
        }
      },
      "source": [
        "model0 <- glmer(accuracy ~ (1|participant) + (1|slide) + type + grade, family = 'binomial', data=model_right_set)\n",
        "model1 <- glmer(accuracy ~ (1|participant) + (1|slide) + type + grade + mode, family = 'binomial', data=model_right_set)\n",
        "print(anova(model0, model1))\n",
        "se <- sqrt(diag(vcov(model1)))\n",
        "# table of estimates with 95% CI\n",
        "tab <- cbind(Est = fixef(model1), LL = fixef(model1) - 1.96 * se, UL = fixef(model1) + 1.96 * se)\n",
        "print(\"Odds Ratio\")\n",
        "print(exp(tab))"
      ],
      "execution_count": 13,
      "outputs": [
        {
          "output_type": "stream",
          "text": [
            "Warning message in checkConv(attr(opt, \"derivs\"), opt$par, ctrl = control$checkConv, :\n",
            "“Model failed to converge with max|grad| = 0.0189273 (tol = 0.001, component 1)”"
          ],
          "name": "stderr"
        },
        {
          "output_type": "stream",
          "text": [
            "Data: model_right_set\n",
            "Models:\n",
            "model0: accuracy ~ (1 | participant) + (1 | slide) + type + grade\n",
            "model1: accuracy ~ (1 | participant) + (1 | slide) + type + grade + mode\n",
            "       Df    AIC    BIC  logLik deviance  Chisq Chi Df Pr(>Chisq)    \n",
            "model0  8 540.84 583.25 -262.42   524.84                             \n",
            "model1  9 515.49 563.20 -248.75   497.49 27.346      1  1.701e-07 ***\n",
            "---\n",
            "Signif. codes:  0 ‘***’ 0.001 ‘**’ 0.01 ‘*’ 0.05 ‘.’ 0.1 ‘ ’ 1\n",
            "[1] \"Odds Ratio\"\n",
            "                   Est          LL          UL\n",
            "(Intercept) 67.3791161 16.98007710 267.3689440\n",
            "type2        0.1656495  0.05854009   0.4687345\n",
            "type3        0.2551745  0.08928931   0.7292475\n",
            "type4        0.8383008  0.22650857   3.1025239\n",
            "grade2       1.0097527  0.33026518   3.0872178\n",
            "grade3       0.2949566  0.07200173   1.2082961\n",
            "mode1        4.2892450  2.36056583   7.7937342\n"
          ],
          "name": "stdout"
        }
      ]
    },
    {
      "cell_type": "code",
      "metadata": {
        "id": "qFHIGNiGK0Wx",
        "colab_type": "code",
        "outputId": "6ee4bb7c-45f0-4379-9e35-e19d89ecd9dd",
        "colab": {
          "base_uri": "https://localhost:8080/",
          "height": 514
        }
      },
      "source": [
        "model0 <- glmer(accuracy ~ (1|participant) + (1|slide) + type + grade, family = 'binomial', data=model_wrong_set)\n",
        "model1 <- glmer(accuracy ~ (1|participant) + (1|slide) + type + grade + mode, family = 'binomial', data=model_wrong_set)\n",
        "print(anova(model0, model1))\n",
        "se <- sqrt(diag(vcov(model1)))\n",
        "# table of estimates with 95% CI\n",
        "tab <- cbind(Est = fixef(model1), LL = fixef(model1) - 1.96 * se, UL = fixef(model1) + 1.96 * se)\n",
        "print(\"Odds Ratio\")\n",
        "print(exp(tab))"
      ],
      "execution_count": 14,
      "outputs": [
        {
          "output_type": "stream",
          "text": [
            "Warning message in checkConv(attr(opt, \"derivs\"), opt$par, ctrl = control$checkConv, :\n",
            "“Model failed to converge with max|grad| = 0.00362113 (tol = 0.001, component 1)”"
          ],
          "name": "stderr"
        },
        {
          "output_type": "stream",
          "text": [
            "Data: model_wrong_set\n",
            "Models:\n",
            "model0: accuracy ~ (1 | participant) + (1 | slide) + type + grade\n",
            "model1: accuracy ~ (1 | participant) + (1 | slide) + type + grade + mode\n",
            "       Df    AIC    BIC  logLik deviance  Chisq Chi Df Pr(>Chisq)    \n",
            "model0  8 311.86 340.88 -147.93   295.86                             \n",
            "model1  9 296.75 329.40 -139.37   278.75 17.109      1   3.53e-05 ***\n",
            "---\n",
            "Signif. codes:  0 ‘***’ 0.001 ‘**’ 0.01 ‘*’ 0.05 ‘.’ 0.1 ‘ ’ 1\n",
            "[1] \"Odds Ratio\"\n",
            "                    Est         LL          UL\n",
            "(Intercept) 32.54572232 3.59929566 294.2864776\n",
            "type2        0.34188852 0.07855806   1.4879155\n",
            "type3        0.41450764 0.09633825   1.7834720\n",
            "type4        1.46959323 0.26856089   8.0417676\n",
            "grade2       0.66760067 0.09953444   4.4777532\n",
            "grade3       0.08051055 0.00898094   0.7217451\n",
            "mode1        0.25265215 0.12588259   0.5070845\n"
          ],
          "name": "stdout"
        }
      ]
    }
  ]
}